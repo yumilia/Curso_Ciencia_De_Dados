{
 "cells": [
  {
   "cell_type": "markdown",
   "metadata": {},
   "source": [
    "# Aula 6 - Estatística"
   ]
  },
  {
   "cell_type": "markdown",
   "metadata": {},
   "source": [
    "## Exemplo 2 - Aula 6_estatística_pt4: teste de hipótese com P-valor"
   ]
  },
  {
   "cell_type": "code",
   "execution_count": null,
   "metadata": {},
   "outputs": [],
   "source": [
    "from scipy import stats\n",
    "import numpy as np"
   ]
  },
  {
   "cell_type": "code",
   "execution_count": null,
   "metadata": {},
   "outputs": [],
   "source": [
    "#valor de alpha, que é uma probabilidade\n",
    "alpha = 0.01"
   ]
  },
  {
   "cell_type": "code",
   "execution_count": null,
   "metadata": {},
   "outputs": [],
   "source": [
    "#cálculo dos valores críticos, relativos à alpha/2 e 1-alpha/2\n",
    "valor_critico_1 = stats.norm.ppf(alpha/2)\n",
    "valor_critico_2 = stats.norm.ppf(1 - alpha/2)"
   ]
  },
  {
   "cell_type": "code",
   "execution_count": null,
   "metadata": {},
   "outputs": [],
   "source": [
    "print(valor_critico_1)\n",
    "print(valor_critico_2)"
   ]
  },
  {
   "cell_type": "markdown",
   "metadata": {},
   "source": [
    "## Desafio 1 - Aula 6_estatística_pt4: automatizar teste de hipóteses"
   ]
  },
  {
   "cell_type": "markdown",
   "metadata": {},
   "source": [
    "Desafio 1: crie um programa Python que automatiza o teste de hipóteses para o caso do exemplo 2, em que se espera um valor fixo para a média.\n",
    "O programa deve receber os dados de média populacional, desvio padrão populacional, nível de significância alpha, número de elementos da amostra e média da amostra.\n",
    "Ao final, deve imprimir “Rejeito H0” ou “Não rejeito H0”, dependendo do resultado do teste de hipóteses.\n"
   ]
  },
  {
   "cell_type": "code",
   "execution_count": null,
   "metadata": {},
   "outputs": [],
   "source": [
    "m = 50 #Média populacional\n",
    "std = 2 #Desvio padrão populacional\n",
    "alpha = 0.05 \n",
    "n = 25 #Número de amostras\n",
    "x_amostra = 51.3 #Média amostral"
   ]
  },
  {
   "cell_type": "code",
   "execution_count": null,
   "metadata": {},
   "outputs": [],
   "source": [
    "import math    \n",
    "\n",
    "z_score = (x_amostra - m)/(std/math.sqrt(n))"
   ]
  },
  {
   "cell_type": "code",
   "execution_count": null,
   "metadata": {},
   "outputs": [],
   "source": [
    "print(z_score)"
   ]
  },
  {
   "cell_type": "code",
   "execution_count": null,
   "metadata": {},
   "outputs": [],
   "source": [
    "from scipy import stats\n",
    "\n",
    "#cálculo dos valores críticos, relativos à alpha/2 e 1-alpha/2\n",
    "valor_critico_1 = stats.norm.ppf(alpha/2)\n",
    "valor_critico_2 = stats.norm.ppf(1 - alpha/2)"
   ]
  },
  {
   "cell_type": "code",
   "execution_count": null,
   "metadata": {},
   "outputs": [],
   "source": [
    "print(valor_critico_1) \n",
    "print(valor_critico_2)"
   ]
  },
  {
   "cell_type": "code",
   "execution_count": null,
   "metadata": {},
   "outputs": [],
   "source": [
    "if valor_critico_1 < z_score and z_score < valor_critico_2:\n",
    "    print('Não rejeito H0')\n",
    "else:\n",
    "    print('Rejeito H0')"
   ]
  },
  {
   "cell_type": "markdown",
   "metadata": {},
   "source": [
    "## Desafio 2 - Aula 6_estatística_pt4: selecionar 10.5 % dos alunos na hora"
   ]
  },
  {
   "cell_type": "code",
   "execution_count": null,
   "metadata": {},
   "outputs": [],
   "source": [
    "z = stats.norm.ppf(0.105)"
   ]
  },
  {
   "cell_type": "code",
   "execution_count": null,
   "metadata": {},
   "outputs": [],
   "source": [
    "print(z)"
   ]
  },
  {
   "cell_type": "code",
   "execution_count": null,
   "metadata": {},
   "outputs": [],
   "source": [
    "import numpy as np\n",
    "\n",
    "mu, sigma = 0, 1 # mean and standard deviation\n",
    "s = np.random.normal(mu, sigma)\n",
    "print(s)\n",
    "\n",
    "if s < z:\n",
    "    print('Escolhido')\n",
    "else:\n",
    "    print('Não escolhido')"
   ]
  }
 ],
 "metadata": {
  "kernelspec": {
   "display_name": "Python 3",
   "language": "python",
   "name": "python3"
  },
  "language_info": {
   "codemirror_mode": {
    "name": "ipython",
    "version": 3
   },
   "file_extension": ".py",
   "mimetype": "text/x-python",
   "name": "python",
   "nbconvert_exporter": "python",
   "pygments_lexer": "ipython3",
   "version": "3.8.3"
  }
 },
 "nbformat": 4,
 "nbformat_minor": 4
}
