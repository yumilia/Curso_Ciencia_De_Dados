{
  "nbformat": 4,
  "nbformat_minor": 0,
  "metadata": {
    "colab": {
      "name": "Cópia de grupo 3.ipynb",
      "provenance": [],
      "collapsed_sections": []
    },
    "kernelspec": {
      "name": "python3",
      "display_name": "Python 3"
    },
    "language_info": {
      "name": "python"
    }
  },
  "cells": [
    {
      "cell_type": "markdown",
      "metadata": {
        "id": "S-uGXg_EzNqE"
      },
      "source": [
        "# Grupo 3\n",
        "Nomes: <br>\n",
        "Daniel Moreira<br>\n",
        "Lia Morimoto<br>\n",
        "Ryan Ferreira<br>\n",
        "Thiago Figueira"
      ]
    },
    {
      "cell_type": "code",
      "metadata": {
        "id": "h8ndIMEezSgY"
      },
      "source": [
        "# Importar biblioteca\n",
        "from google.colab import files\n",
        "import io"
      ],
      "execution_count": null,
      "outputs": []
    },
    {
      "cell_type": "code",
      "metadata": {
        "id": "bnEk7hccRIq8",
        "colab": {
          "resources": {
            "http://localhost:8080/nbextensions/google.colab/files.js": {
              "data": "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",
              "ok": true,
              "headers": [
                [
                  "content-type",
                  "application/javascript"
                ]
              ],
              "status": 200,
              "status_text": ""
            }
          },
          "base_uri": "https://localhost:8080/",
          "height": 72
        },
        "outputId": "c7c93c14-6d70-4a3f-ffeb-0b09a204a564"
      },
      "source": [
        "# Adicionar dataset\n",
        "uploaded = files.upload()"
      ],
      "execution_count": null,
      "outputs": [
        {
          "output_type": "display_data",
          "data": {
            "text/html": [
              "\n",
              "     <input type=\"file\" id=\"files-2e15e6ea-b8de-488e-ade0-fb6ccd0b0f74\" name=\"files[]\" multiple disabled\n",
              "        style=\"border:none\" />\n",
              "     <output id=\"result-2e15e6ea-b8de-488e-ade0-fb6ccd0b0f74\">\n",
              "      Upload widget is only available when the cell has been executed in the\n",
              "      current browser session. Please rerun this cell to enable.\n",
              "      </output>\n",
              "      <script src=\"/nbextensions/google.colab/files.js\"></script> "
            ],
            "text/plain": [
              "<IPython.core.display.HTML object>"
            ]
          },
          "metadata": {
            "tags": []
          }
        },
        {
          "output_type": "stream",
          "text": [
            "Saving heart.csv to heart.csv\n"
          ],
          "name": "stdout"
        }
      ]
    },
    {
      "cell_type": "code",
      "metadata": {
        "id": "RpZbdxUpTBp-"
      },
      "source": [
        "# Importando as bibliotecas para trabalhar com os dados\n",
        "import pandas as pd\n",
        "import numpy as np\n",
        "import matplotlib.pyplot as plt\n",
        "import seaborn as sns"
      ],
      "execution_count": null,
      "outputs": []
    },
    {
      "cell_type": "code",
      "metadata": {
        "id": "FLbvFHirTLCk"
      },
      "source": [
        "# Lendo o arquivo CSV\n",
        "df = pd.read_csv('heart.csv')"
      ],
      "execution_count": null,
      "outputs": []
    },
    {
      "cell_type": "code",
      "metadata": {
        "colab": {
          "base_uri": "https://localhost:8080/",
          "height": 204
        },
        "id": "luTmytyHTOq-",
        "outputId": "5cb72ac2-2c0c-44d0-e638-ffc93899b53b"
      },
      "source": [
        "# Conhecendo o dataset\n",
        "df.head()"
      ],
      "execution_count": null,
      "outputs": [
        {
          "output_type": "execute_result",
          "data": {
            "text/html": [
              "<div>\n",
              "<style scoped>\n",
              "    .dataframe tbody tr th:only-of-type {\n",
              "        vertical-align: middle;\n",
              "    }\n",
              "\n",
              "    .dataframe tbody tr th {\n",
              "        vertical-align: top;\n",
              "    }\n",
              "\n",
              "    .dataframe thead th {\n",
              "        text-align: right;\n",
              "    }\n",
              "</style>\n",
              "<table border=\"1\" class=\"dataframe\">\n",
              "  <thead>\n",
              "    <tr style=\"text-align: right;\">\n",
              "      <th></th>\n",
              "      <th>age</th>\n",
              "      <th>sex</th>\n",
              "      <th>cp</th>\n",
              "      <th>trestbps</th>\n",
              "      <th>chol</th>\n",
              "      <th>fbs</th>\n",
              "      <th>restecg</th>\n",
              "      <th>thalach</th>\n",
              "      <th>exang</th>\n",
              "      <th>oldpeak</th>\n",
              "      <th>slope</th>\n",
              "      <th>ca</th>\n",
              "      <th>thal</th>\n",
              "      <th>target</th>\n",
              "    </tr>\n",
              "  </thead>\n",
              "  <tbody>\n",
              "    <tr>\n",
              "      <th>0</th>\n",
              "      <td>63</td>\n",
              "      <td>1</td>\n",
              "      <td>3</td>\n",
              "      <td>145</td>\n",
              "      <td>233</td>\n",
              "      <td>1</td>\n",
              "      <td>0</td>\n",
              "      <td>150</td>\n",
              "      <td>0</td>\n",
              "      <td>2.3</td>\n",
              "      <td>0</td>\n",
              "      <td>0</td>\n",
              "      <td>1</td>\n",
              "      <td>1</td>\n",
              "    </tr>\n",
              "    <tr>\n",
              "      <th>1</th>\n",
              "      <td>37</td>\n",
              "      <td>1</td>\n",
              "      <td>2</td>\n",
              "      <td>130</td>\n",
              "      <td>250</td>\n",
              "      <td>0</td>\n",
              "      <td>1</td>\n",
              "      <td>187</td>\n",
              "      <td>0</td>\n",
              "      <td>3.5</td>\n",
              "      <td>0</td>\n",
              "      <td>0</td>\n",
              "      <td>2</td>\n",
              "      <td>1</td>\n",
              "    </tr>\n",
              "    <tr>\n",
              "      <th>2</th>\n",
              "      <td>41</td>\n",
              "      <td>0</td>\n",
              "      <td>1</td>\n",
              "      <td>130</td>\n",
              "      <td>204</td>\n",
              "      <td>0</td>\n",
              "      <td>0</td>\n",
              "      <td>172</td>\n",
              "      <td>0</td>\n",
              "      <td>1.4</td>\n",
              "      <td>2</td>\n",
              "      <td>0</td>\n",
              "      <td>2</td>\n",
              "      <td>1</td>\n",
              "    </tr>\n",
              "    <tr>\n",
              "      <th>3</th>\n",
              "      <td>56</td>\n",
              "      <td>1</td>\n",
              "      <td>1</td>\n",
              "      <td>120</td>\n",
              "      <td>236</td>\n",
              "      <td>0</td>\n",
              "      <td>1</td>\n",
              "      <td>178</td>\n",
              "      <td>0</td>\n",
              "      <td>0.8</td>\n",
              "      <td>2</td>\n",
              "      <td>0</td>\n",
              "      <td>2</td>\n",
              "      <td>1</td>\n",
              "    </tr>\n",
              "    <tr>\n",
              "      <th>4</th>\n",
              "      <td>57</td>\n",
              "      <td>0</td>\n",
              "      <td>0</td>\n",
              "      <td>120</td>\n",
              "      <td>354</td>\n",
              "      <td>0</td>\n",
              "      <td>1</td>\n",
              "      <td>163</td>\n",
              "      <td>1</td>\n",
              "      <td>0.6</td>\n",
              "      <td>2</td>\n",
              "      <td>0</td>\n",
              "      <td>2</td>\n",
              "      <td>1</td>\n",
              "    </tr>\n",
              "  </tbody>\n",
              "</table>\n",
              "</div>"
            ],
            "text/plain": [
              "   age  sex  cp  trestbps  chol  fbs  ...  exang  oldpeak  slope  ca  thal  target\n",
              "0   63    1   3       145   233    1  ...      0      2.3      0   0     1       1\n",
              "1   37    1   2       130   250    0  ...      0      3.5      0   0     2       1\n",
              "2   41    0   1       130   204    0  ...      0      1.4      2   0     2       1\n",
              "3   56    1   1       120   236    0  ...      0      0.8      2   0     2       1\n",
              "4   57    0   0       120   354    0  ...      1      0.6      2   0     2       1\n",
              "\n",
              "[5 rows x 14 columns]"
            ]
          },
          "metadata": {
            "tags": []
          },
          "execution_count": 5
        }
      ]
    },
    {
      "cell_type": "code",
      "metadata": {
        "colab": {
          "base_uri": "https://localhost:8080/"
        },
        "id": "YKAF-D4CVhD-",
        "outputId": "5d33ea94-8c89-4a42-b8cd-b23af25f6f2f"
      },
      "source": [
        "df.info()"
      ],
      "execution_count": null,
      "outputs": [
        {
          "output_type": "stream",
          "text": [
            "<class 'pandas.core.frame.DataFrame'>\n",
            "RangeIndex: 303 entries, 0 to 302\n",
            "Data columns (total 14 columns):\n",
            " #   Column    Non-Null Count  Dtype  \n",
            "---  ------    --------------  -----  \n",
            " 0   age       303 non-null    int64  \n",
            " 1   sex       303 non-null    int64  \n",
            " 2   cp        303 non-null    int64  \n",
            " 3   trestbps  303 non-null    int64  \n",
            " 4   chol      303 non-null    int64  \n",
            " 5   fbs       303 non-null    int64  \n",
            " 6   restecg   303 non-null    int64  \n",
            " 7   thalach   303 non-null    int64  \n",
            " 8   exang     303 non-null    int64  \n",
            " 9   oldpeak   303 non-null    float64\n",
            " 10  slope     303 non-null    int64  \n",
            " 11  ca        303 non-null    int64  \n",
            " 12  thal      303 non-null    int64  \n",
            " 13  target    303 non-null    int64  \n",
            "dtypes: float64(1), int64(13)\n",
            "memory usage: 33.3 KB\n"
          ],
          "name": "stdout"
        }
      ]
    },
    {
      "cell_type": "code",
      "metadata": {
        "colab": {
          "base_uri": "https://localhost:8080/"
        },
        "id": "zm-Hl-xtTP1R",
        "outputId": "4143c01c-b449-468a-da80-2cd42ce27e0b"
      },
      "source": [
        "# Confirmando que não há valores nulos\n",
        "df.isnull().sum()"
      ],
      "execution_count": null,
      "outputs": [
        {
          "output_type": "execute_result",
          "data": {
            "text/plain": [
              "age         0\n",
              "sex         0\n",
              "cp          0\n",
              "trestbps    0\n",
              "chol        0\n",
              "fbs         0\n",
              "restecg     0\n",
              "thalach     0\n",
              "exang       0\n",
              "oldpeak     0\n",
              "slope       0\n",
              "ca          0\n",
              "thal        0\n",
              "target      0\n",
              "dtype: int64"
            ]
          },
          "metadata": {
            "tags": []
          },
          "execution_count": 7
        }
      ]
    },
    {
      "cell_type": "markdown",
      "metadata": {
        "id": "lkXlRPDelk9m"
      },
      "source": [
        "Não será aplicado o **Dummy Variable** pois não existem variáveis categóricas *qualitativas* para tratar"
      ]
    },
    {
      "cell_type": "code",
      "metadata": {
        "id": "lHpdI9ayUs8i"
      },
      "source": [
        "# Renomeando as colunas de forma mais descritiva\n",
        "df.columns = ['age', 'sex', 'pain_type', 'blood_pressure', 'cholesterol', 'fasting_glicose', 'electro_rest', 'max_heart_rate', 'exercise_angina', 'depression_exercise', 'slope', 'vessels', 'thal', 'target']"
      ],
      "execution_count": null,
      "outputs": []
    },
    {
      "cell_type": "code",
      "metadata": {
        "colab": {
          "base_uri": "https://localhost:8080/",
          "height": 607
        },
        "id": "8pp3Gu_2ecyt",
        "outputId": "f9ba4ffb-76df-4f05-bd8e-18e002c691af"
      },
      "source": [
        "# Observando a correlação entre as colunas e a target\n",
        "colours = []\n",
        "correlation_list = df.drop('target', axis=1).corrwith(df.target) >= 0\n",
        "\n",
        "for corr in correlation_list:\n",
        "  if corr:\n",
        "    colours.append('blue')\n",
        "  else:\n",
        "    colours.append('red')\n",
        "\n",
        "plt.figure(figsize=(12, 8))\n",
        "plt.bar(x=df.drop('target', axis=1).columns, height=df.drop('target', axis=1).corrwith(df.target), color=colours)\n",
        "plt.grid()\n",
        "plt.xticks(rotation=90)\n",
        "plt.title('Correlação entre colunas e a target')"
      ],
      "execution_count": null,
      "outputs": [
        {
          "output_type": "execute_result",
          "data": {
            "text/plain": [
              "Text(0.5, 1.0, 'Correlação entre colunas e a target')"
            ]
          },
          "metadata": {
            "tags": []
          },
          "execution_count": 9
        },
        {
          "output_type": "display_data",
          "data": {
            "image/png": "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\n",
            "text/plain": [
              "<Figure size 864x576 with 1 Axes>"
            ]
          },
          "metadata": {
            "tags": [],
            "needs_background": "light"
          }
        }
      ]
    },
    {
      "cell_type": "code",
      "metadata": {
        "colab": {
          "base_uri": "https://localhost:8080/",
          "height": 812
        },
        "id": "ps2UeNWhWbXz",
        "outputId": "7039b0ad-9281-446c-ec5c-5000d194437c"
      },
      "source": [
        "# Outro método para analisar a correlação\n",
        "correlation = df.corr()\n",
        "plt.figure(figsize=(12,12))\n",
        "sns.heatmap(correlation, annot=True, linewidths=0.3, cmap=\"YlGnBu\")"
      ],
      "execution_count": null,
      "outputs": [
        {
          "output_type": "execute_result",
          "data": {
            "text/plain": [
              "<matplotlib.axes._subplots.AxesSubplot at 0x7f568ed1f2d0>"
            ]
          },
          "metadata": {
            "tags": []
          },
          "execution_count": 10
        },
        {
          "output_type": "display_data",
          "data": {
            "image/png": "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
