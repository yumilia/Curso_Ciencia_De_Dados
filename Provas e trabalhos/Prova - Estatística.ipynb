{
 "cells": [
  {
   "cell_type": "markdown",
   "metadata": {},
   "source": [
    "# Avaliação 1- Probabilidade e estatística"
   ]
  },
  {
   "cell_type": "markdown",
   "metadata": {},
   "source": [
    "### Nome do aluno:"
   ]
  },
  {
   "cell_type": "markdown",
   "metadata": {},
   "source": [
    "### Instruções: \n",
    "Escreva seu nome na célula acima. Esta avaliação é composta de 14 questões. <br>As questões discursivas devem ser respondidas na célula logo abaixo do enunciado, após a marcação \"Resposta:\". \n",
    "<br >As questões que envolvem código devem ser feitas ou completadas apenas dentro da área definida pelas marcações:\n",
    "<br>\"### COMEÇO DO CÓDIGO ###\"\n",
    "<br>\"### FIM DO CÓDIGO ###\"<br>\n",
    "Dentro desse espaço, o aluno deve escrever linhas de código e trocar os três pontos (...) por linhas de código pertinentes.\n",
    "Nada precisa ser alterado ou feito no código fora dessas marcações."
   ]
  },
  {
   "cell_type": "markdown",
   "metadata": {},
   "source": [
    "#### Questão 1: Qual a probabilidade de se obter um número par em um lançamento de dados de 6 lados? Justifique"
   ]
  },
  {
   "cell_type": "markdown",
   "metadata": {},
   "source": [
    "Resposta:"
   ]
  },
  {
   "cell_type": "markdown",
   "metadata": {},
   "source": [
    "#### Questão 2: O código abaixo simula o lançamento de um dado 10000 vezes. Os resultados dos lançamentos são armazenados em uma lista 'lancamentos'. Um trecho de código é criado em seguida para iterar entre os valores. Complete o código dentro da área delimitada, fazendo a verificação de quais números são pares, fazendo a contagem de pares e armazenando o valor na variável 'conta_pares'. Calcule a proporção de números pares em relação ao total de lançamentos feitos. O resultado é próximo ao obtido na questão 1?"
   ]
  },
  {
   "cell_type": "code",
   "execution_count": null,
   "metadata": {},
   "outputs": [],
   "source": [
    "import random\n",
    "\n",
    "lancamentos = []\n",
    "conta_pares = 0\n",
    "proporcao = 0\n",
    "\n",
    "for i in range(10000):\n",
    "    lancamentos.append(random.randint(1,6))\n",
    "    \n",
    "for lancamento in lancamentos:\n",
    "    ### COMEÇO DO CÓDIGO ### \n",
    "    if ...:\n",
    "        conta_pares += 1\n",
    "    proporcao = ...\n",
    "    ### FIM DO CÓDIGO ###\n",
    "print('A proporçao é igual a ', proporcao)"
   ]
  },
  {
   "cell_type": "markdown",
   "metadata": {},
   "source": [
    "#### Questão 3: Complete o código abaixo, que calcula e imprime o número de permutações (a ordem importa!) possíveis com as letras A,B,C,D."
   ]
  },
  {
   "cell_type": "code",
   "execution_count": null,
   "metadata": {},
   "outputs": [],
   "source": [
    "import math\n",
    "\n",
    "### COMEÇO DO CÓDIGO ### \n",
    "permutacoes = ...\n",
    "### FIM DO CÓDIGO ###\n",
    "print('O número de permutações possíveis é: ', permutacoes)"
   ]
  },
  {
   "cell_type": "markdown",
   "metadata": {},
   "source": [
    "#### Questão 4: Complete o código abaixo, que calcula e imprime o número de combinações de duas letras (a ordem não importa!) possíveis com as letras A,B,C,D."
   ]
  },
  {
   "cell_type": "code",
   "execution_count": null,
   "metadata": {},
   "outputs": [],
   "source": [
    "import math\n",
    "\n",
    "### COMEÇO DO CÓDIGO ### \n",
    "n = ...\n",
    "r = ...\n",
    "combinacoes = ...\n",
    "### FIM DO CÓDIGO ###\n",
    "print('O número de permutações possíveis é: ', combinacoes)"
   ]
  },
  {
   "attachments": {
    "image.png": {
     "image/png": "[encoded data removed]"
    }
   },
   "cell_type": "markdown",
   "metadata": {},
   "source": [
    "#### Questão 5: Considere o diagrama de Venn na imagem abaixo. Escreva quais são os conjuntos A, B, Intersecção de A e B e União de A e B.\n",
    "![image.png](attachment:image.png)"
   ]
  },
  {
   "cell_type": "markdown",
   "metadata": {},
   "source": [
    "Resposta:"
   ]
  },
  {
   "cell_type": "markdown",
   "metadata": {},
   "source": [
    "#### Questão 6: Considere os eventos:\n",
    "#### a: preço da ação da Petrobrás diminui <br> b: notícia negativa da Petrobrás é veiculada \n",
    "#### Como você descreveria  de forma mais \"didática\" a probabilidade condicional P(a|b)?"
   ]
  },
  {
   "cell_type": "markdown",
   "metadata": {},
   "source": [
    "Resposta:"
   ]
  },
  {
   "cell_type": "markdown",
   "metadata": {},
   "source": [
    "#### Questão 7: Complete o código abaixo para calcular a probabilidade binomial de se lançar um dado 20 vezes, e obter o resultado 5 em um total de 3 lançamentos. "
   ]
  },
  {
   "cell_type": "code",
   "execution_count": null,
   "metadata": {},
   "outputs": [],
   "source": [
    "from scipy.stats import binom\n",
    "\n",
    "X = 3\n",
    "n = 20\n",
    "p = 1/6\n",
    "### COMEÇO DO CÓDIGO ### \n",
    "probabilidade = ...\n",
    "### FIM DO CÓDIGO ###\n",
    "print('A probabilidade é de: ', probabilidade)\n"
   ]
  },
  {
   "cell_type": "markdown",
   "metadata": {},
   "source": [
    "#### Questão 8: Considere o seguinte problema: \"Um porto recebe, em média, 10 barcos entre 16h00 e 17h00 nas sextas feiras. Qual é a probabilidade de que apenas 4 barcos cheguem nesta sexta feira, entre 16h00 e 17h00?\". Que tipo de distribuição de probabilidade deve ser usada nessa situação? Que características do problema nos levam a essa conclusão? (Não é necessário resolver o problema)."
   ]
  },
  {
   "cell_type": "markdown",
   "metadata": {},
   "source": [
    "resposta"
   ]
  },
  {
   "cell_type": "markdown",
   "metadata": {},
   "source": [
    "#### Questão 9: Cite a principal característica que diferencia a distribuição Normal das distribuições Binomial e de Poisson. Qual é o valor da área abaixo da curva de uma distribuição normal?"
   ]
  },
  {
   "cell_type": "markdown",
   "metadata": {},
   "source": [
    "resposta"
   ]
  },
  {
   "cell_type": "markdown",
   "metadata": {},
   "source": [
    "#### Questão 10: Um estudo foi realizado sobre a durabilidade dos drones usados para análise de áreas de desmatamento, visto que 70% deles eram perdidos na mata. Os cientistas mediam o desgaste das peças dos drones que retornavam para tirar conclusões. Que tipo de viés pode estar sendo cometido neste estudo?"
   ]
  },
  {
   "cell_type": "markdown",
   "metadata": {},
   "source": [
    "Resposta"
   ]
  },
  {
   "cell_type": "markdown",
   "metadata": {},
   "source": [
    "#### Questão 11: Qual é o enunciado do Teorema do Limite Central? Qual a diferença entre média populacional e média da amostra?"
   ]
  },
  {
   "cell_type": "markdown",
   "metadata": {},
   "source": [
    "Resposta:"
   ]
  },
  {
   "cell_type": "markdown",
   "metadata": {},
   "source": [
    "#### Considere o seguinte problema para as questões 12, 13 e 14: <br> <br> Uma empresa contratou um novo servidor para armazenar seu website, visto que ele custa menos pelo serviço. O desempenho do novo servidor deve ser idêntico ao anterior. As páginas demoravam, em média, 3.125 segundos para carregar antes da troca, com desvio padrão de 0.700 segundos. O cientista de dados da empresa foi responsabilizado por determinar se as páginas continuam carregando no mesmo tempo que antes (nem mais, nem menos). A diretoria espera um nível de confiança de 99% (nível de significância de 1 %). Uma amostragem foi realizada com 40 acessos à página, com uma média amostral de 2.875 segundos. A hipotése nula H0 foi pré-definida como: \"o tempo de carregamento das páginas continua sendo igual a 3.125 segundos.\"\n"
   ]
  },
  {
   "cell_type": "markdown",
   "metadata": {},
   "source": [
    "#### Questão 12: Escreva um trecho de código para calcular o z-score da média amostral:"
   ]
  },
  {
   "cell_type": "code",
   "execution_count": null,
   "metadata": {},
   "outputs": [],
   "source": [
    "import math   \n",
    "\n",
    "### COMEÇO DO CÓDIGO ### \n",
    "z_score = ...\n",
    "### FIM DO CÓDIGO ###\n",
    "print('O z-score da média amostral é de: ', z_score)"
   ]
  },
  {
   "cell_type": "markdown",
   "metadata": {},
   "source": [
    "#### Questão 13: Escreva um trecho de código para calcular os valores críticos:"
   ]
  },
  {
   "cell_type": "code",
   "execution_count": null,
   "metadata": {},
   "outputs": [],
   "source": [
    "from scipy import stats\n",
    "\n",
    "### COMEÇO DO CÓDIGO ### \n",
    "valor_critico_1 = ...\n",
    "valor_critico_2 = ...\n",
    "### FIM DO CÓDIGO ###\n",
    "print('Os valores críticos são: ', valor_critico_1, valor_critico_2)"
   ]
  },
  {
   "cell_type": "markdown",
   "metadata": {},
   "source": [
    "#### Questão 14: Baseado nos resultados das questôes 12 e 13, podemos afirmar (com 99 % de nível de confiança) que os tempos do teste estão estatisticamente iguais aos anteriores? Por que?"
   ]
  },
  {
   "cell_type": "markdown",
   "metadata": {},
   "source": [
    "Resposta:"
   ]
  }
 ],
 "metadata": {
  "kernelspec": {
   "display_name": "Python 3",
   "language": "python",
   "name": "python3"
  },
  "language_info": {
   "codemirror_mode": {
    "name": "ipython",
    "version": 3
   },
   "file_extension": ".py",
   "mimetype": "text/x-python",
   "name": "python",
   "nbconvert_exporter": "python",
   "pygments_lexer": "ipython3",
   "version": "3.8.5"
  }
 },
 "nbformat": 4,
 "nbformat_minor": 4
}
