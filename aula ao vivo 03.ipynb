{
 "cells": [
  {
   "cell_type": "markdown",
   "metadata": {},
   "source": [
    "Aula 2 - Probabilidade (01/02/2021)\n",
    "Exemplo 1 - Lançar 100 vezes o dado e salvar em uma lista"
   ]
  },
  {
   "cell_type": "code",
   "execution_count": 23,
   "metadata": {},
   "outputs": [],
   "source": [
    "import random"
   ]
  },
  {
   "cell_type": "code",
   "execution_count": 24,
   "metadata": {},
   "outputs": [
    {
     "data": {
      "text/plain": [
       "5"
      ]
     },
     "execution_count": 24,
     "metadata": {},
     "output_type": "execute_result"
    }
   ],
   "source": [
    "#função que faz o \"lançamento de um dados\"\n",
    "random.randint(1,6)"
   ]
  },
  {
   "cell_type": "code",
   "execution_count": 25,
   "metadata": {},
   "outputs": [
    {
     "name": "stdout",
     "output_type": "stream",
     "text": [
      "[3, 1, 5, 5, 5, 2, 2, 4, 5, 5, 6, 2, 4, 1, 4, 2, 6, 6, 4, 3, 3, 4, 5, 1, 3, 5, 5, 1, 6, 5, 3, 4, 5, 1, 3, 2, 2, 5, 2, 4, 5, 2, 5, 3, 1, 6, 4, 6, 6, 2, 1, 4, 1, 5, 6, 4, 1, 5, 3, 2, 4, 4, 1, 4, 2, 5, 4, 3, 6, 5, 1, 3, 6, 1, 4, 6, 1, 5, 1, 2, 3, 3, 4, 3, 3, 5, 1, 6, 4, 5, 3, 6, 6, 5, 4, 4, 1, 5, 1, 2]\n"
     ]
    }
   ],
   "source": [
    "#feito por mim\n",
    "lista = []\n",
    "i = 0\n",
    "while (i!=100):\n",
    "    i = i + 1\n",
    "    lista.append(random.randint(1,6))\n",
    "print(lista)"
   ]
  },
  {
   "cell_type": "code",
   "execution_count": 26,
   "metadata": {},
   "outputs": [
    {
     "name": "stdout",
     "output_type": "stream",
     "text": [
      "[4, 5, 6, 3, 2, 3, 1, 6, 2, 6, 5, 4, 5, 1, 2, 2, 1, 3, 4, 6, 4, 1, 2, 3, 1, 6, 3, 1, 6, 3, 2, 6, 4, 1, 4, 2, 3, 2, 1, 6, 5, 3, 4, 3, 2, 3, 2, 5, 2, 1, 3, 6, 5, 3, 4, 5, 4, 2, 3, 5, 3, 3, 3, 5, 2, 6, 4, 3, 4, 4, 1, 6, 4, 6, 3, 2, 3, 4, 2, 2, 2, 3, 4, 1, 2, 3, 3, 5, 6, 2, 2, 4, 5, 1, 1, 2, 5, 3, 1, 5]\n"
     ]
    }
   ],
   "source": [
    "#forma mais eficaz de se fazer\n",
    "#elaborado pelo professor\n",
    "vetor = []\n",
    "for i in range(100):\n",
    "    vetor.append(random.randint(1,6))\n",
    "print(vetor)"
   ]
  },
  {
   "cell_type": "markdown",
   "metadata": {},
   "source": [
    "Exemplo 2 - Quero saber as estatísticas do lançamento de dados"
   ]
  },
  {
   "cell_type": "code",
   "execution_count": 27,
   "metadata": {},
   "outputs": [
    {
     "data": {
      "text/plain": [
       "Text(0.5, 0, 'Dados')"
      ]
     },
     "execution_count": 27,
     "metadata": {},
     "output_type": "execute_result"
    },
    {
     "data": {
      "image/png": "[encoded data removed]",
      "text/plain": [
       "<Figure size 432x288 with 1 Axes>"
      ]
     },
     "metadata": {
      "needs_background": "light"
     },
     "output_type": "display_data"
    }
   ],
   "source": [
    "import matplotlib.pyplot as plt\n",
    "import numpy as np\n",
    "\n",
    "plt.hist(vetor, density=True, bins=[1,2,3,4,5,6,7])\n",
    "\n",
    "#density - True é a probabilidade. False é a frequência (contagem)\n",
    "\n",
    "plt.ylabel('Probabilidade')\n",
    "plt.xlabel('Dados')"
   ]
  },
  {
   "cell_type": "markdown",
   "metadata": {},
   "source": [
    "Exemplo 3 Calculando a distribuição binomial"
   ]
  },
  {
   "cell_type": "code",
   "execution_count": 28,
   "metadata": {},
   "outputs": [
    {
     "data": {
      "text/plain": [
       "0.2423137603371325"
      ]
     },
     "execution_count": 28,
     "metadata": {},
     "output_type": "execute_result"
    }
   ],
   "source": [
    "from scipy.stats import binom\n",
    "\n",
    "binom.pmf(3,16,1/6)"
   ]
  }
 ],
 "metadata": {
  "kernelspec": {
   "display_name": "Python 3",
   "language": "python",
   "name": "python3"
  },
  "language_info": {
   "codemirror_mode": {
    "name": "ipython",
    "version": 3
   },
   "file_extension": ".py",
   "mimetype": "text/x-python",
   "name": "python",
   "nbconvert_exporter": "python",
   "pygments_lexer": "ipython3",
   "version": "3.8.5"
  }
 },
 "nbformat": 4,
 "nbformat_minor": 4
}
